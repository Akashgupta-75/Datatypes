{
  "nbformat": 4,
  "nbformat_minor": 0,
  "metadata": {
    "colab": {
      "provenance": []
    },
    "kernelspec": {
      "name": "python3",
      "display_name": "Python 3"
    },
    "language_info": {
      "name": "python"
    }
  },
  "cells": [
    {
      "cell_type": "code",
      "execution_count": null,
      "metadata": {
        "id": "dIOYI3h4pJd0"
      },
      "outputs": [],
      "source": []
    },
    {
      "cell_type": "markdown",
      "source": [
        "# Question.\n",
        "1- What are data structures and why are they important?\n",
        "    - A data structure is a specialized format for organizing, processing, retrieving and storing data. Data structures make it easy for users to\n",
        "      access and work with the data they need. Data structures are essentially ways to arrange and store data in a computer memory so it can be\n",
        "      used. Some data structures are - Integer, Float, Boolean, Array etc.\n",
        "\n",
        "     - Data structures are important because they-\n",
        "\n",
        "     It Helps you find and use data quickly.\n",
        "\n",
        "     Save space and make your programs run faster.\n",
        "\n",
        "     Make coding easier and cleaner by keeping things organized.\n",
        "\n",
        "     Solve real-world problems like searching, sorting, or networking more efficiently.\n",
        "\n",
        "\n",
        "2-  Explain the difference between mutable and immutable data types with examples?\n",
        "    - In mutable data types allow their values to be modified after creation, while immutable data types cannot be changed once created.\n",
        "      Yes Lists are mutable in Python. We can add or remove elements from the list In Python mutability refers to the capability of\n",
        "      an object to be changed or modified after its creation. Mutable and immutable objects are handled differently in Python.\n",
        "      Immutable objects are quicker to access and are expensive to change because it involves the creation of a copy. Whereas\n",
        "      mutable objects are easy to change. The use of mutable objects is recommended when there is a need to change the size or content of the object.\n",
        "        \n",
        " 3-  What are the main differences between lists and tuples in Python3\n",
        "    -                                         Key Differences between List and Tuple-\n",
        "\n",
        "                     List                                                                        Tuple\n",
        "\n",
        "1\tLists are mutable(can be modified).\t                                           Tuples are immutable(cannot be modified).\n",
        "2\tIteration over lists is time-consuming.             \t                       Iterations over tuple is faster\n",
        "3\tLists are better for performing operations such as insertion and deletion.\t   Tuples are more suitable for accessing elements efficiently.\n",
        "4\tLists consume more memory.\t                                                   Tuples consumes less memory\n",
        "5\tLists have several built-in methods.\t                                       Tuples have fewer built-in methods.\n",
        "6\tLists are more prone to unexpected changes and errors.\t                       Tuples, being immutable are less error prone.\n",
        "                                                                                                           \n",
        "4- Describe how dictionaries store data.\n",
        "   - Dictionaries are unordered collections of data and are represented with curly brackets {} A Python dictionary is a data structure that stores\n",
        "    the value in key value pairs. Values in a dictionary can be of any data type and can be duplicated, whereas keys can’t be repeated and must be\n",
        "    immutable\n",
        "                                                                                                           \n",
        "5- Why might you use a set instead of a list in Python?\n",
        "      - In Python, both sets and lists are used to store collections of elements but they have key differences that make them suitable for different\n",
        "        use cases. The main difference is that lists are ordered, meaning the order of elements is preserved and they can be accessed by their index\n",
        "        while sets are unordered meaning they do not maintain the order of elements and automatically ensure all elements are unique.\n",
        "                                                                \n",
        "6- What is a string in Python, and how is it different from a list?\n",
        "   - A string is a sequence of characters that can be a combination of letters, numbers, and special characters\n",
        "     A list is mutable, meaning you can modify its elements after it is created. On the other hand, a string is immutable,\n",
        "     which means you cannot change its characters once it is created Strings are immutable, meaning they cannot be changed\n",
        "     once created, while lists are mutable and can be modified as needed.\n",
        "\n",
        "7- How do tuples ensure data integrity in Python?\n",
        "   - A tuple in Python is an immutable ordered collection of elements. Tuples are similar to lists, but unlike lists, they\n",
        "    cannot be changed after their creation Tuples can hold elements of different data type The main characteristics of tuple\n",
        "    are being ordered, heterogeneous and immutable.\n",
        "\n",
        "8- What is a hash table, and how does it relate to dictionaries in Python?\n",
        "  - Hash tables are a type of data structure in which the address or the index value of the data element is generated from a\n",
        "    hash function. That makes accessing the data faster as the index value behaves as a key for the data value. In other words\n",
        "    Hash table stores key-value pairs but the key is generated through a hashing function.A Python dictionary uses a hash table\n",
        "    behind the scenes to quickly find data using keys.\n",
        "\n",
        "                                                                                       \n",
        "9- Can lists contain different data types in Python?\n",
        "   - A list is a built-in dynamic sized array automatically grows and shrink. We can store all types of items in a list.A list\n",
        "     may contain mixed type of items List can contain duplicate items.List in Python are Mutable. we can modify replace or delete\n",
        "     the items List are ordered.It maintain the order of elements based on how they are added.Accessing items in List can be done\n",
        "     directly using their position\n",
        "    \n",
        "10- Explain why strings are immutable in Python?\n",
        "   - Strings in Python are immutable which means they can not be changed after they are created The immutability of Python string\n",
        "     is very useful as it helps in hashing and ease of use etc.                                                                                                    \n",
        "     One reason is optimization. Since strings are immutable, Python can perform several optimizations.the value of a string will\n",
        "     never change. This saves memory, especially when dealing with many identical strings.\n",
        "     Another reason is thread safety. In a multithreaded environment, immutable objects are inherently safe to share between threads\n",
        "     because there is no risk of one thread modifying the object while another thread is accessing it    \n",
        "\n",
        "11- What advantages do dictionaries offer over lists for certain tasks?\n",
        "   -  The list is a collection of index value pairs\n",
        "      The dictionary is a hashed structure of the key and value pairs.\n",
        "      The list is created by placing elements in [ ] separated by commas “, “\n",
        "      The dictionary is created by placing elements in { } as key value, each key-value pair is separated by commas “, “\n",
        "      The indices of the list are integers starting from 0.\n",
        "      The keys of the dictionary can be of any immutable data type.\n",
        "      The elements are accessed via indices.\n",
        "      The elements are accessed via key.\n",
        "      The order of the elements entered is maintained.\n",
        "      Average time taken to search a value in list takes O[n].\n",
        "      Average time taken to search a key in dictionary takes O[1].\n",
        "      Average time to delete a certain value from a list takes O[n].\n",
        "      Average time to delete a certain key from a dictionary takes O[1].\n",
        "\n",
        "12-  Describe a scenario where using a tuple would be preferable over a list.\n",
        "    - Key Differences between List and Tuple\n",
        "\n",
        "                List                                                                         Tuple\n",
        "\n",
        "1\tLists are mutable(can be modified).\t                                             Tuples are immutable(cannot be modified).\n",
        "2\tIteration over lists is time-consuming.\t                                         Iterations over tuple is faster\n",
        "3\tLists are better for performing operations, such as insertion and deletion.\t     Tuples are more suitable for accessing elements efficiently.\n",
        "4\tLists consume more memory.\t                                                     Tuples consumes less memory\n",
        "5\tLists have several built-in methods.\t                                         Tuples have fewer built-in methods.\n",
        "6\tLists are more prone to unexpected changes and errors.\t                         Tuples, being immutable are less error prone.\n",
        "                                                                                                           \n",
        "\n",
        "13- How do sets handle duplicate values in Python.\n",
        "   - Sets in Python are designed to store only unique elements. When a user attempts to add a duplicate value to a set, the set automatically\n",
        "     discards the duplicate, ensuring that each element appears only once. This behavior is fundamental to the nature of sets as unordered\n",
        "     collections of distinct items.\n",
        "\n",
        "      my_set = {1, 2, 2, 3, 4, 4, 5}\n",
        "      print(my_set)\n",
        "      # Expected output: {1, 2, 3, 4, 5}\n",
        "\n",
        "15-  Can you modify the elements of a tuple? Explain why or why not.\n",
        "   - In Python, tuples are immutable and hence no changes are required in them once they are formed. This restriction makes\n",
        "     their processing harder and hence certain operations on tuples are quite useful .\n",
        "\n",
        "16-  What is a nested dictionary, and give an example of its use case.\n",
        "  -  A nested dictionary in Python is a dictionary where the values are themselves dictionaries. This allows for the creation of a hierarchical\n",
        "    structure where data can be organized into multiple levels. A common use case for nested dictionaries is representing complex, multi-layered\n",
        "    data, such as employee information with nested address and contact details\n",
        "\n",
        "17-  Describe the time complexity of accessing elements in a dictionary.\n",
        "   - Python dictionaries provide a fast and efficient way to store and retrieve data using key value pair\n",
        "          # Create a dictionary\n",
        "         dict = {'a': 1, 'b': 2, 'c': 3}\n",
        "         # Access value by key\n",
        "         val = dict['b']\n",
        "         print(val)\n",
        "\n",
        "\n",
        "18-  In what situations are lists preferred over dictionaries.\n",
        "    - Python dictionaries provide a fast and efficient way to store and retrieve data using key value pair so understanding the time complexities of\n",
        "      dictionary operations is very important for optimizing performance in our programs.\n",
        "        # Create a dictionary\n",
        "       dict = {'a': 1, 'b': 2, 'c': 3}\n",
        "       # Access value by key\n",
        "       val = dict['b']\n",
        "       print(val)   \n",
        "\n",
        "19-  Why are dictionaries considered unordered, and how does that affect data retrieval.\n",
        "    - A dictionary is termed an unordered collection of objects because dictionaries do not maintain any inherent order of the items based on when\n",
        "      they were added. In Python, data structures are used to store and organize data efficiently. One of the fundamental differences between these\n",
        "      data structures is whether they maintain the order of elements or not. Ordered data structures guarantee that elements are retrieved in the same\n",
        "      order they were inserted while unordered data structures do not maintain any specific order.\n",
        "      Ordered Data Structures An ordered data structure is one where the order of elements is preserved. This means that when elements are inserted into\n",
        "      the structure, they retain their insertion order when you retrieve them. You can access elements by their position (index).\n",
        "\n",
        "      Unordered Data Structures\n",
        "      An unordered data structure does not preserve the order of elements. Elements in such structures are stored in an unpredictable sequence. These\n",
        "      data structures are often used when you need to ensure uniqueness of elements or require fast membership tests.\n",
        "\n",
        "\n",
        "20-  Explain the difference between a list and a dictionary in terms of data retrieval.\n",
        "    - Lists in Python - In Python, a list is a built-in dynamic sized array (automatically grows and shrinks). We can store all types of items\n",
        "      (including another list) in a list. A list may contain mixed type of items, this is possible because a list mainly stores references at contiguous\n",
        "      locations and actual items maybe stored at different locations.\n",
        "\n",
        "      Dictionary in Python\n",
        "     A Python dictionary is a data structure that stores the value in key: value pairs. Values in a dictionary can be of any data type and can be\n",
        "     duplicated, whereas keys can’t be repeated and must be immutable\n"
      ],
      "metadata": {
        "id": "tvi9blippRb1"
      }
    },
    {
      "cell_type": "code",
      "source": [
        "#1- Write a code to create a string with your name and print it\n",
        "name = \"Akash Gupta\"\n",
        "print(name)"
      ],
      "metadata": {
        "colab": {
          "base_uri": "https://localhost:8080/"
        },
        "id": "ohWL18H1pVTp",
        "outputId": "14d2efae-6b47-4aaf-d85a-c202ebefd408"
      },
      "execution_count": 1,
      "outputs": [
        {
          "output_type": "stream",
          "name": "stdout",
          "text": [
            "Akash Gupta\n"
          ]
        }
      ]
    },
    {
      "cell_type": "markdown",
      "source": [],
      "metadata": {
        "id": "kHuRvJR-pr-V"
      }
    },
    {
      "cell_type": "code",
      "source": [
        "#2- Write a code to find the length of the string \"Hello World\"\n",
        "\n",
        "text= \"hello world\"\n",
        "lenght = len(text)\n",
        "print(lenght)"
      ],
      "metadata": {
        "colab": {
          "base_uri": "https://localhost:8080/"
        },
        "id": "cLM7kqOWpeRp",
        "outputId": "4210b537-12ca-491b-8daf-4b8fb77b88c6"
      },
      "execution_count": 3,
      "outputs": [
        {
          "output_type": "stream",
          "name": "stdout",
          "text": [
            "11\n"
          ]
        }
      ]
    },
    {
      "cell_type": "code",
      "source": [
        "#3- Write a code to slice the first 3 characters from the string \"Python Programming\n",
        "a = \"Python Programming\"\n",
        "slice = a[:3]\n",
        "print(slice)"
      ],
      "metadata": {
        "colab": {
          "base_uri": "https://localhost:8080/"
        },
        "id": "KP_subrZp92W",
        "outputId": "7e80560c-83db-4d3d-e65f-c96dd7b3f844"
      },
      "execution_count": 4,
      "outputs": [
        {
          "output_type": "stream",
          "name": "stdout",
          "text": [
            "Pyt\n"
          ]
        }
      ]
    },
    {
      "cell_type": "code",
      "source": [
        "#4- Write a code to convert the string \"hello\" to uppercase\n",
        "\n",
        "str = \"hello\"\n",
        "uppercase_text = str.upper()\n",
        "print(uppercase_text)\n"
      ],
      "metadata": {
        "colab": {
          "base_uri": "https://localhost:8080/"
        },
        "id": "uOYheSBkqCQ6",
        "outputId": "fd5e79d7-ec9d-411e-fb85-9cfbc1570e0e"
      },
      "execution_count": 5,
      "outputs": [
        {
          "output_type": "stream",
          "name": "stdout",
          "text": [
            "HELLO\n"
          ]
        }
      ]
    },
    {
      "cell_type": "code",
      "source": [
        "#5- Write a code to replace the word \"apple\" with \"orange\" in the string \"I like apple\"\n",
        "\n",
        "text = \"I like apple\"\n",
        "new_text = text.replace(\"apple\",\"orange\")\n",
        "print(new_text)"
      ],
      "metadata": {
        "colab": {
          "base_uri": "https://localhost:8080/"
        },
        "id": "r4kBwjWUqHqt",
        "outputId": "2b75e526-9f05-4576-ec2b-4941eac6902e"
      },
      "execution_count": 6,
      "outputs": [
        {
          "output_type": "stream",
          "name": "stdout",
          "text": [
            "I like orange\n"
          ]
        }
      ]
    },
    {
      "cell_type": "code",
      "source": [
        "#6- Write a code to create a list with numbers 1 to 5 and print it\n",
        "\n",
        "numbers = [1,2,3,4,5]\n",
        "print(numbers)"
      ],
      "metadata": {
        "colab": {
          "base_uri": "https://localhost:8080/"
        },
        "id": "dlOpHjU4qMyy",
        "outputId": "53a4fbe4-7fcb-47b8-a7ea-aaaedb512a13"
      },
      "execution_count": 7,
      "outputs": [
        {
          "output_type": "stream",
          "name": "stdout",
          "text": [
            "[1, 2, 3, 4, 5]\n"
          ]
        }
      ]
    },
    {
      "cell_type": "code",
      "source": [
        "#7- Write a code to append the number 10 to the list [1, 2, 3, 4]\n",
        "\n",
        "numbers = [1,2,3,4]\n",
        "numbers.append(10)\n",
        "print(numbers)"
      ],
      "metadata": {
        "colab": {
          "base_uri": "https://localhost:8080/"
        },
        "id": "Nktlz6TYqQJD",
        "outputId": "08cbf715-caad-40cb-ed77-9cd132e3bb56"
      },
      "execution_count": 8,
      "outputs": [
        {
          "output_type": "stream",
          "name": "stdout",
          "text": [
            "[1, 2, 3, 4, 10]\n"
          ]
        }
      ]
    },
    {
      "cell_type": "code",
      "source": [
        "#8- Write a code to remove the number 3 from the list [1, 2, 3, 4, 5]\n",
        "\n",
        "numbers = [1, 2, 3, 4, 5]\n",
        "numbers.remove(3)\n",
        "print(\"Updated list:\", numbers)\n",
        "\n"
      ],
      "metadata": {
        "colab": {
          "base_uri": "https://localhost:8080/"
        },
        "id": "1Rbv30VHqT2X",
        "outputId": "fbc428be-b32b-4e0f-ec63-d09b46ddb1db"
      },
      "execution_count": 9,
      "outputs": [
        {
          "output_type": "stream",
          "name": "stdout",
          "text": [
            "Updated list: [1, 2, 4, 5]\n"
          ]
        }
      ]
    },
    {
      "cell_type": "code",
      "source": [
        "#9-  Write a code to access the second element in the list ['a', 'b', 'c', 'd']\n",
        "\n",
        "letters = ['a', 'b', 'c', 'd']\n",
        "second_element = letters[1]\n",
        "print(second_element)"
      ],
      "metadata": {
        "colab": {
          "base_uri": "https://localhost:8080/"
        },
        "id": "k531K0d_qWW3",
        "outputId": "26e7e773-144b-4a03-8d27-fdca8c2c2cd6"
      },
      "execution_count": 10,
      "outputs": [
        {
          "output_type": "stream",
          "name": "stdout",
          "text": [
            "b\n"
          ]
        }
      ]
    },
    {
      "cell_type": "code",
      "source": [
        "#10- Write a code to reverse the list [10, 20, 30, 40, 50].\n",
        "\n",
        "numbers = [10, 20, 30, 40, 50]\n",
        "numbers.reverse()\n",
        "print(numbers)"
      ],
      "metadata": {
        "colab": {
          "base_uri": "https://localhost:8080/"
        },
        "id": "5gzFQOIRqZPO",
        "outputId": "51f9d8c7-0205-43d6-a446-356cca00e9f0"
      },
      "execution_count": 11,
      "outputs": [
        {
          "output_type": "stream",
          "name": "stdout",
          "text": [
            "[50, 40, 30, 20, 10]\n"
          ]
        }
      ]
    },
    {
      "cell_type": "code",
      "source": [
        "#11-  Write a code to create a tuple with the elements 100, 200, 300 and print it\n",
        "my_tuple = (100, 200, 300)\n",
        "print(\"Tuple:\", my_tuple)"
      ],
      "metadata": {
        "colab": {
          "base_uri": "https://localhost:8080/"
        },
        "id": "51VzoLIsqcaa",
        "outputId": "a7a08f5e-66ad-4be2-93b4-f7a904fcb3ae"
      },
      "execution_count": 12,
      "outputs": [
        {
          "output_type": "stream",
          "name": "stdout",
          "text": [
            "Tuple: (100, 200, 300)\n"
          ]
        }
      ]
    },
    {
      "cell_type": "code",
      "source": [
        "#12- Write a code to access the second-to-last element of the tuple ('red', 'green', 'blue', 'yellow').\n",
        "\n",
        "my_tuple = ('red', 'green', 'blue', 'yellow')\n",
        "second_to_last = my_tuple[-2]\n",
        "print(second_to_last)\n"
      ],
      "metadata": {
        "colab": {
          "base_uri": "https://localhost:8080/"
        },
        "id": "QI7767N9qfGQ",
        "outputId": "f2b9e91e-9d94-4f11-abb1-18b1bc7c5218"
      },
      "execution_count": 13,
      "outputs": [
        {
          "output_type": "stream",
          "name": "stdout",
          "text": [
            "blue\n"
          ]
        }
      ]
    },
    {
      "cell_type": "code",
      "source": [
        "# 13. Write a code to find the minimum number in the tuple (10, 20, 5, 15).\n",
        "\n",
        "my_tuple = (10, 20, 5, 15)\n",
        "min_value = min(my_tuple)\n",
        "print(min_value)\n",
        "\n"
      ],
      "metadata": {
        "colab": {
          "base_uri": "https://localhost:8080/"
        },
        "id": "nJrVOqCqqhp4",
        "outputId": "8eef0a81-7c1a-4251-ce4c-fc2ce2e3aed0"
      },
      "execution_count": 14,
      "outputs": [
        {
          "output_type": "stream",
          "name": "stdout",
          "text": [
            "5\n"
          ]
        }
      ]
    },
    {
      "cell_type": "code",
      "source": [
        "# 14. Write a code to find the index of the element \"cat\" in the tuple ('dog', 'cat', 'rabbit').\n",
        "\n",
        "my_tuple = ('dog', 'cat', 'rabbit')\n",
        "index_of_cat = my_tuple.index('cat')\n",
        "print(index_of_cat)\n"
      ],
      "metadata": {
        "colab": {
          "base_uri": "https://localhost:8080/"
        },
        "id": "3Y9qNwvYqj3M",
        "outputId": "bf0c91d5-dbe2-4a4e-ae8b-0e2557ee7b93"
      },
      "execution_count": 15,
      "outputs": [
        {
          "output_type": "stream",
          "name": "stdout",
          "text": [
            "1\n"
          ]
        }
      ]
    },
    {
      "cell_type": "code",
      "source": [
        "# 15. Write a code to create a tuple containing three different fruits and check if \"kiwi\" is in it.\n",
        "\n",
        "fruits = ('apple', 'banana', 'cherry')\n",
        "is_kiwi_in_tuple = 'kiwi' in fruits\n",
        "print(is_kiwi_in_tuple)"
      ],
      "metadata": {
        "colab": {
          "base_uri": "https://localhost:8080/"
        },
        "id": "kNTlVxeSqmb8",
        "outputId": "49d5e9ea-6d09-465d-af51-a5bbafbc788d"
      },
      "execution_count": 16,
      "outputs": [
        {
          "output_type": "stream",
          "name": "stdout",
          "text": [
            "False\n"
          ]
        }
      ]
    },
    {
      "cell_type": "code",
      "source": [
        "# 16. Write a code to create a set with the elements 'a', 'b', 'c' and print it.\n",
        "\n",
        "my_set = {'a', 'b', 'c'}\n",
        "print(my_set)"
      ],
      "metadata": {
        "colab": {
          "base_uri": "https://localhost:8080/"
        },
        "id": "9_Ifojfmqv9P",
        "outputId": "dfc120a7-e0cd-44fb-8bac-3e08419cd478"
      },
      "execution_count": 17,
      "outputs": [
        {
          "output_type": "stream",
          "name": "stdout",
          "text": [
            "{'a', 'c', 'b'}\n"
          ]
        }
      ]
    },
    {
      "cell_type": "code",
      "source": [
        "# 17. Write a code to clear all elements from the set {1, 2, 3, 4, 5}.\n",
        "\n",
        "my_set = {1, 2, 3, 4, 5}\n",
        "my_set.clear()\n",
        "print(my_set)\n"
      ],
      "metadata": {
        "colab": {
          "base_uri": "https://localhost:8080/"
        },
        "id": "Akx5Q8ioqzf2",
        "outputId": "b37c003b-25da-4e6c-8886-987c409c3084"
      },
      "execution_count": 18,
      "outputs": [
        {
          "output_type": "stream",
          "name": "stdout",
          "text": [
            "set()\n"
          ]
        }
      ]
    },
    {
      "cell_type": "code",
      "source": [
        "# 18. Write a code to remove the element 4 from the set {1, 2, 3, 4}.\n",
        "\n",
        "my_set = {1, 2, 3, 4}\n",
        "my_set.remove(4)\n",
        "print( my_set)"
      ],
      "metadata": {
        "colab": {
          "base_uri": "https://localhost:8080/"
        },
        "id": "xh0G-iYYq2QK",
        "outputId": "5f96ee5d-089b-4892-cb36-74500eaebc6f"
      },
      "execution_count": 19,
      "outputs": [
        {
          "output_type": "stream",
          "name": "stdout",
          "text": [
            "{1, 2, 3}\n"
          ]
        }
      ]
    },
    {
      "cell_type": "code",
      "source": [
        "# 19. Write a code to find the union of two sets {1, 2, 3} and {3, 4, 5}.\n",
        "\n",
        "set1 = {1, 2, 3}\n",
        "set2 = {3, 4, 5}\n",
        "union_set = set1 | set2  # Alternatively, you can use set1.union(set2)\n",
        "print(union_set)"
      ],
      "metadata": {
        "colab": {
          "base_uri": "https://localhost:8080/"
        },
        "id": "3hhfe9_Wq40s",
        "outputId": "6b90f98f-9ea7-455c-8a69-8b028c9a8c0a"
      },
      "execution_count": 20,
      "outputs": [
        {
          "output_type": "stream",
          "name": "stdout",
          "text": [
            "{1, 2, 3, 4, 5}\n"
          ]
        }
      ]
    },
    {
      "cell_type": "code",
      "source": [
        "# 20. Write a code to find the intersection of two sets {1, 2, 3} and {2, 3, 4}.\n",
        "\n",
        "set1 = {1, 2, 3}\n",
        "set2 = {2, 3, 4}\n",
        "intersection_set = set1 & set2  # Alternatively, you can use set1.intersection(set2)\n",
        "print(intersection_set)\n"
      ],
      "metadata": {
        "colab": {
          "base_uri": "https://localhost:8080/"
        },
        "id": "V8bJCRhnq-sU",
        "outputId": "e7d3d892-f105-4a44-c2b1-c4b165e4cdd7"
      },
      "execution_count": 21,
      "outputs": [
        {
          "output_type": "stream",
          "name": "stdout",
          "text": [
            "{2, 3}\n"
          ]
        }
      ]
    },
    {
      "cell_type": "code",
      "source": [
        "# 21. Write a code to create a dictionary with the keys \"name\", \"age\", and \"city\", and print it.\n",
        "\n",
        "my_dict = {\n",
        "    \"name\": \"John\",\n",
        "    \"age\": 25,\n",
        "    \"city\": \"New York\"\n",
        "}\n",
        "print(my_dict)"
      ],
      "metadata": {
        "colab": {
          "base_uri": "https://localhost:8080/"
        },
        "id": "-t516VKLrCSW",
        "outputId": "3f1642d0-9c78-46de-9768-7d7fd11b8027"
      },
      "execution_count": 22,
      "outputs": [
        {
          "output_type": "stream",
          "name": "stdout",
          "text": [
            "{'name': 'John', 'age': 25, 'city': 'New York'}\n"
          ]
        }
      ]
    },
    {
      "cell_type": "code",
      "source": [
        "# 22. Write a code to add a new key-value pair \"country\": \"USA\" to the dictionary {'name': 'John', 'age': 25}.\n",
        "\n",
        "my_dict = {'name': 'John', 'age': 25}\n",
        "my_dict[\"country\"] = \"USA\"\n",
        "print(my_dict)"
      ],
      "metadata": {
        "colab": {
          "base_uri": "https://localhost:8080/"
        },
        "id": "NZ5L0gArrFxa",
        "outputId": "cbd2b76f-1a3d-470a-a060-80eda860eb98"
      },
      "execution_count": 23,
      "outputs": [
        {
          "output_type": "stream",
          "name": "stdout",
          "text": [
            "{'name': 'John', 'age': 25, 'country': 'USA'}\n"
          ]
        }
      ]
    },
    {
      "cell_type": "code",
      "source": [
        "# 23. Write a code to access the value associated with the key \"name\" in the dictionary {'name': 'Alice', 'age': 30}.\n",
        "\n",
        "my_dict = {'name': 'Alice', 'age': 30}\n",
        "name_value = my_dict['name']\n",
        "print(name_value)\n"
      ],
      "metadata": {
        "colab": {
          "base_uri": "https://localhost:8080/"
        },
        "id": "iipxmNwqrImq",
        "outputId": "e596b20b-aad3-431a-fd1f-df3647b959bf"
      },
      "execution_count": 24,
      "outputs": [
        {
          "output_type": "stream",
          "name": "stdout",
          "text": [
            "Alice\n"
          ]
        }
      ]
    },
    {
      "cell_type": "code",
      "source": [
        "# 24. Write a code to remove the key \"age\" from the dictionary {'name': 'Bob', 'age': 22, 'city': 'New York'}.\n",
        "\n",
        "my_dict = {'name': 'Bob', 'age': 22, 'city': 'New York'}\n",
        "del my_dict['age']\n",
        "print(my_dict)"
      ],
      "metadata": {
        "colab": {
          "base_uri": "https://localhost:8080/"
        },
        "id": "o4asPkt8rLOj",
        "outputId": "9b1dd19d-97b3-44ee-cc87-9bc6cc4acf43"
      },
      "execution_count": 25,
      "outputs": [
        {
          "output_type": "stream",
          "name": "stdout",
          "text": [
            "{'name': 'Bob', 'city': 'New York'}\n"
          ]
        }
      ]
    },
    {
      "cell_type": "code",
      "source": [
        "# 25. Write a code to check if the key \"city\" exists in the dictionary {'name': 'Alice', 'city': 'Paris'}.\n",
        "\n",
        "my_dict = {'name': 'Alice', 'city': 'Paris'}\n",
        "key_exists = 'city' in my_dict\n",
        "print(key_exists)"
      ],
      "metadata": {
        "colab": {
          "base_uri": "https://localhost:8080/"
        },
        "id": "8NCqeALJrOGJ",
        "outputId": "52d27761-77b4-401a-ec8a-58c6d08aa84c"
      },
      "execution_count": 26,
      "outputs": [
        {
          "output_type": "stream",
          "name": "stdout",
          "text": [
            "True\n"
          ]
        }
      ]
    },
    {
      "cell_type": "code",
      "source": [
        "# 26. Write a code to create a list, a tuple, and a dictionary, and print them all.\n",
        "\n",
        "my_list = [1, 2, 3, 4, 5]\n",
        "my_tuple = ('apple', 'banana', 'cherry')\n",
        "my_dict = {'name': 'Alice', 'age': 25, 'city': 'New York'}\n",
        "print(\"List:\", my_list)\n",
        "print(\"Tuple:\", my_tuple)\n",
        "print(\"Dictionary:\", my_dict)"
      ],
      "metadata": {
        "colab": {
          "base_uri": "https://localhost:8080/"
        },
        "id": "8SxBPDbrrRGC",
        "outputId": "0b780d4e-7a4a-4cd8-bba6-01c0bfecb0b0"
      },
      "execution_count": 27,
      "outputs": [
        {
          "output_type": "stream",
          "name": "stdout",
          "text": [
            "List: [1, 2, 3, 4, 5]\n",
            "Tuple: ('apple', 'banana', 'cherry')\n",
            "Dictionary: {'name': 'Alice', 'age': 25, 'city': 'New York'}\n"
          ]
        }
      ]
    },
    {
      "cell_type": "code",
      "source": [
        "# 27. Write a code to create a list of 5 random numbers between 1 and 100, sort it in ascending order, and print the result(replaced)\n",
        "\n",
        "import random\n",
        "random_numbers = [random.randint(1, 100) for _ in range(5)]\n",
        "random_numbers.sort()\n",
        "print(\"Sorted list of random numbers:\", random_numbers)\n"
      ],
      "metadata": {
        "colab": {
          "base_uri": "https://localhost:8080/"
        },
        "id": "6-vWfEocrT17",
        "outputId": "e2d7fb68-94db-455b-f4c6-68425771cf42"
      },
      "execution_count": 28,
      "outputs": [
        {
          "output_type": "stream",
          "name": "stdout",
          "text": [
            "Sorted list of random numbers: [12, 20, 28, 45, 79]\n"
          ]
        }
      ]
    },
    {
      "cell_type": "code",
      "source": [
        "# 28. Write a code to create a list with strings and print the element at the third index.\n",
        "\n",
        "my_list = [\"apple\", \"banana\", \"cherry\", \"date\", \"elderberry\"]\n",
        "print(\"Element at the third index:\", my_list[3])"
      ],
      "metadata": {
        "colab": {
          "base_uri": "https://localhost:8080/"
        },
        "id": "HewW-TlFrWuO",
        "outputId": "94df6d3e-3be0-4c88-81e0-39e18f056038"
      },
      "execution_count": 29,
      "outputs": [
        {
          "output_type": "stream",
          "name": "stdout",
          "text": [
            "Element at the third index: date\n"
          ]
        }
      ]
    },
    {
      "cell_type": "code",
      "source": [
        "# 29. Write a code to combine two dictionaries into one and print the result.\n",
        "\n",
        "dict1 = {'name': 'Alice', 'age': 25}\n",
        "dict2 = {'city': 'New York', 'job': 'Engineer'}\n",
        "combined_dict = {**dict1, **dict2}\n",
        "print(\"Combined dictionary:\", combined_dict)\n"
      ],
      "metadata": {
        "colab": {
          "base_uri": "https://localhost:8080/"
        },
        "id": "T5cBeakDrZ6Q",
        "outputId": "867b5836-1f8f-4326-92e7-7b24dc00e03d"
      },
      "execution_count": 30,
      "outputs": [
        {
          "output_type": "stream",
          "name": "stdout",
          "text": [
            "Combined dictionary: {'name': 'Alice', 'age': 25, 'city': 'New York', 'job': 'Engineer'}\n"
          ]
        }
      ]
    },
    {
      "cell_type": "code",
      "source": [
        "# 30. Write a code to convert a list of strings into a set.\n",
        "\n",
        "my_list = [\"apple\", \"banana\", \"cherry\", \"apple\", \"date\"]\n",
        "my_set = set(my_list)\n",
        "print(\"Converted set:\", my_set)\n"
      ],
      "metadata": {
        "colab": {
          "base_uri": "https://localhost:8080/"
        },
        "id": "_OkOgZwIrcfV",
        "outputId": "9ed065b5-2641-4295-a05f-2efb1861fa8c"
      },
      "execution_count": 31,
      "outputs": [
        {
          "output_type": "stream",
          "name": "stdout",
          "text": [
            "Converted set: {'cherry', 'banana', 'apple', 'date'}\n"
          ]
        }
      ]
    },
    {
      "cell_type": "code",
      "source": [],
      "metadata": {
        "id": "zr-hj_byrfED"
      },
      "execution_count": null,
      "outputs": []
    }
  ]
}